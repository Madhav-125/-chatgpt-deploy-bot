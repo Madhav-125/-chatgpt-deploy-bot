{
  "nbformat": 4,
  "nbformat_minor": 0,
  "metadata": {
    "colab": {
      "provenance": [],
      "authorship_tag": "ABX9TyO4UJEwa+XYGi1LuUIJIoxM",
      "include_colab_link": true
    },
    "kernelspec": {
      "name": "python3",
      "display_name": "Python 3"
    },
    "language_info": {
      "name": "python"
    }
  },
  "cells": [
    {
      "cell_type": "markdown",
      "metadata": {
        "id": "view-in-github",
        "colab_type": "text"
      },
      "source": [
        "<a href=\"https://colab.research.google.com/github/Madhav-125/-chatgpt-deploy-bot/blob/main/Untitled19.ipynb\" target=\"_parent\"><img src=\"https://colab.research.google.com/assets/colab-badge.svg\" alt=\"Open In Colab\"/></a>"
      ]
    },
    {
      "cell_type": "code",
      "execution_count": 1,
      "metadata": {
        "colab": {
          "base_uri": "https://localhost:8080/"
        },
        "id": "bW3t62RqhOsg",
        "outputId": "a0b7dcc9-a287-4169-f753-896264580671"
      },
      "outputs": [
        {
          "output_type": "stream",
          "name": "stdout",
          "text": [
            "Accuracy: 100.0 %\n",
            "Predicted: versicolor, Actual: versicolor\n",
            "Predicted: setosa, Actual: setosa\n",
            "Predicted: virginica, Actual: virginica\n",
            "Predicted: versicolor, Actual: versicolor\n",
            "Predicted: versicolor, Actual: versicolor\n"
          ]
        }
      ],
      "source": [
        "# Step 1: Import the required libraries\n",
        "from sklearn.datasets import load_iris\n",
        "from sklearn.model_selection import train_test_split\n",
        "from sklearn.preprocessing import StandardScaler\n",
        "from sklearn.neighbors import KNeighborsClassifier\n",
        "from sklearn.metrics import accuracy_score\n",
        "\n",
        "# Step 2: Load the iris dataset\n",
        "iris = load_iris()\n",
        "X = iris.data\n",
        "y = iris.target\n",
        "\n",
        "# Step 3: Split into train & test data\n",
        "X_train, X_test, y_train, y_test = train_test_split(X, y, test_size=0.2, random_state=42)\n",
        "\n",
        "# Step 4: Scale the features (very important for KNN)\n",
        "scaler = StandardScaler()\n",
        "X_train = scaler.fit_transform(X_train)\n",
        "X_test = scaler.transform(X_test)\n",
        "\n",
        "# Step 5: Create the KNN model\n",
        "knn = KNeighborsClassifier(n_neighbors=3)\n",
        "\n",
        "# Step 6: Train the model\n",
        "knn.fit(X_train, y_train)\n",
        "\n",
        "# Step 7: Predict on the test data\n",
        "y_pred = knn.predict(X_test)\n",
        "\n",
        "# Step 8: Calculate accuracy\n",
        "accuracy = accuracy_score(y_test, y_pred)\n",
        "print(\"Accuracy:\", accuracy * 100, \"%\")\n",
        "\n",
        "# Step 9: Show sample predictions\n",
        "for i in range(5):\n",
        "    print(f\"Predicted: {iris.target_names[y_pred[i]]}, Actual: {iris.target_names[y_test[i]]}\")\n"
      ]
    }
  ]
}